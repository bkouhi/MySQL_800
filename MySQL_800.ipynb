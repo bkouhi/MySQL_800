{
 "cells": [
  {
   "cell_type": "markdown",
   "metadata": {},
   "source": [
    "# MySQL 800 Questions"
   ]
  },
  {
   "cell_type": "markdown",
   "metadata": {},
   "source": [
    "This is based on \"800+ SQL INTERVIEW QUESTIONS\" by DISHA MUKHERJEE, but changed and ipdated for:\n",
    "1. Onlu MySQL\n",
    "2. MySQL version 8.4\n",
    "3. Answers are rewritten because many answers in PDF doesn't run on this version of MySQL."
   ]
  },
  {
   "cell_type": "markdown",
   "metadata": {},
   "source": []
  }
 ],
 "metadata": {
  "kernelspec": {
   "display_name": "Python 3",
   "language": "python",
   "name": "python3"
  },
  "language_info": {
   "name": "python",
   "version": "3.12.3"
  }
 },
 "nbformat": 4,
 "nbformat_minor": 2
}
