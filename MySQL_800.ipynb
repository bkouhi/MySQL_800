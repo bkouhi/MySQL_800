{
 "cells": [
  {
   "cell_type": "markdown",
   "metadata": {},
   "source": [
    "# MySQL 800 Questions"
   ]
  },
  {
   "cell_type": "markdown",
   "metadata": {},
   "source": [
    "This is based on \"800+ SQL INTERVIEW QUESTIONS\" by DISHA MUKHERJEE, but changed and ipdated for:\n",
    "1. Only MySQL\n",
    "2. MySQL version 8.4\n",
    "3. Answers are rewritten because many answers in PDF doesn't run on this version of MySQL."
   ]
  },
  {
   "cell_type": "markdown",
   "metadata": {},
   "source": [
    "### employeedetail TABLE\n",
    "|EmloyeeID|FirstName|LastName|Salary|JoiningDate|Department|Gender|\n",
    "|---|---|---|---|---|---|---|\n",
    "|1|Vikas|Ahlavat|600000.00|2013-01-15 11:16:28|IT|Male|\n",
    "|2|nikita|Jain|530000.00|2014-01-09 17:31:07|HR|Female|\n",
    "|3|Ashish|Kumar|1000000.00|2014-01-09 10:05:07|IT|Male|\n",
    "|4|Nikhil|Sharma|480000.00|2014-01-09 09:00:07|HR|Male|\n",
    "|5|anish|kadian|500000.00|2014-01-09 09:31:07|Payroll|Male|"
   ]
  },
  {
   "cell_type": "markdown",
   "metadata": {},
   "source": [
    "### QUESTIONS\n",
    "\n",
    "1. Write a query to get all employee detail from \"EmployeeDetail\" table\n"
   ]
  }
 ],
 "metadata": {
  "kernelspec": {
   "display_name": "Python 3",
   "language": "python",
   "name": "python3"
  },
  "language_info": {
   "name": "python",
   "version": "3.12.3"
  }
 },
 "nbformat": 4,
 "nbformat_minor": 2
}
