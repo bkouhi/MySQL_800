{
 "cells": [
  {
   "cell_type": "markdown",
   "metadata": {},
   "source": [
    "# MySQL 800 Questions"
   ]
  },
  {
   "cell_type": "markdown",
   "metadata": {},
   "source": [
    "This is based on \"800+ SQL INTERVIEW QUESTIONS\" by DISHA MUKHERJEE, but changed and ipdated for:\n",
    "1. Only MySQL\n",
    "2. MySQL version 8.4\n",
    "3. Answers are rewritten because many answers in PDF doesn't run on this version of MySQL."
   ]
  },
  {
   "cell_type": "markdown",
   "metadata": {},
   "source": [
    "### EmployeeDetail TABLE\n",
    "|EmloyeeID|FirstName|LastName|Salary|JoiningDate|Department|Gender|\n",
    "|---|---|---|---|---|---|---|\n",
    "|1|Vikas|Ahlavat|600000.00|2013-01-15 11:16:28|IT|Male|\n",
    "|2|nikita|Jain|530000.00|2014-01-09 17:31:07|HR|Female|\n",
    "|3|Ashish|Kumar|1000000.00|2014-01-09 10:05:07|IT|Male|\n",
    "|4|Nikhil|Sharma|480000.00|2014-01-09 09:00:07|HR|Male|\n",
    "|5|anish|kadian|500000.00|2014-01-09 09:31:07|Payroll|Male|"
   ]
  },
  {
   "cell_type": "markdown",
   "metadata": {},
   "source": [
    "### QUESTIONS\n",
    "\n",
    "1. Write a query to get all employee detail from \"EmployeeDetail\" table\n"
   ]
  },
  {
   "cell_type": "code",
   "execution_count": null,
   "metadata": {
    "vscode": {
     "languageId": "sql"
    }
   },
   "outputs": [],
   "source": [
    "SELECT * FROM EmployeeDetail;"
   ]
  },
  {
   "cell_type": "markdown",
   "metadata": {},
   "source": [
    "2. Write a query to get only \"FirstName\" column from \"EmployeeDetail\" table"
   ]
  },
  {
   "cell_type": "code",
   "execution_count": null,
   "metadata": {
    "vscode": {
     "languageId": "sql"
    }
   },
   "outputs": [],
   "source": [
    "SELECT FirstName FROM EmployeeDetail;"
   ]
  },
  {
   "cell_type": "markdown",
   "metadata": {},
   "source": [
    "3. Write a query to get FirstName in upper case as \"First Name\". "
   ]
  },
  {
   "cell_type": "code",
   "execution_count": null,
   "metadata": {
    "vscode": {
     "languageId": "sql"
    }
   },
   "outputs": [],
   "source": [
    "SELECT UPPER(FirstName) As 'First Name' FROM EmployeeDetail;"
   ]
  },
  {
   "cell_type": "markdown",
   "metadata": {},
   "source": [
    "4. Write a query to get FirstName in lower case as \"First Name\". "
   ]
  },
  {
   "cell_type": "code",
   "execution_count": null,
   "metadata": {
    "vscode": {
     "languageId": "sql"
    }
   },
   "outputs": [],
   "source": [
    "SELECT LOWER(FirstName) As 'First Name' FROM EmployeeDetail;"
   ]
  },
  {
   "cell_type": "markdown",
   "metadata": {},
   "source": [
    "5. Write a query for combine FirstName and LastName and display it as \"Name\" (also include white space between first name & last name) "
   ]
  },
  {
   "cell_type": "code",
   "execution_count": null,
   "metadata": {
    "vscode": {
     "languageId": "sql"
    }
   },
   "outputs": [],
   "source": [
    "SELECT CONCAT(FirstName, ' ', LastName) As 'Name' FROM EmployeeDetail;"
   ]
  },
  {
   "cell_type": "markdown",
   "metadata": {},
   "source": [
    "6. Select employee detail whose name is \"Vikas\" "
   ]
  },
  {
   "cell_type": "code",
   "execution_count": null,
   "metadata": {
    "vscode": {
     "languageId": "sql"
    }
   },
   "outputs": [],
   "source": [
    "SELECT * \n",
    "FROM EmployeeDetail\n",
    "WHERE FirstName = 'Vikas';"
   ]
  },
  {
   "cell_type": "markdown",
   "metadata": {},
   "source": [
    "7. Get all employee detail from EmployeeDetail table whose \"FirstName\" start with latter 'a'. "
   ]
  },
  {
   "cell_type": "code",
   "execution_count": null,
   "metadata": {
    "vscode": {
     "languageId": "sql"
    }
   },
   "outputs": [],
   "source": [
    "SELECT * \n",
    "FROM EmployeeDetail\n",
    "WHERE REGEXP_LIKE(FirstName, '^a');"
   ]
  },
  {
   "cell_type": "markdown",
   "metadata": {},
   "source": [
    "8. Get all employee details from EmployeeDetail table whose \"FirstName\" contains 'k' "
   ]
  },
  {
   "cell_type": "code",
   "execution_count": null,
   "metadata": {
    "vscode": {
     "languageId": "sql"
    }
   },
   "outputs": [],
   "source": [
    "SELECT * \n",
    "FROM EmployeeDetail\n",
    "WHERE REGEXP_LIKE(FirstName, 'k');"
   ]
  },
  {
   "cell_type": "markdown",
   "metadata": {},
   "source": [
    "9. Get all employee details from EmployeeDetail table whose \"FirstName\" end with 'h' "
   ]
  },
  {
   "cell_type": "code",
   "execution_count": null,
   "metadata": {
    "vscode": {
     "languageId": "sql"
    }
   },
   "outputs": [],
   "source": [
    "SELECT * \n",
    "FROM EmployeeDetail\n",
    "WHERE REGEXP_LIKE(FirstName, 'h$');"
   ]
  },
  {
   "cell_type": "markdown",
   "metadata": {},
   "source": [
    "10. Get all employee detail from EmployeeDetail table whose \"FirstName\" start with any single character between 'a-p' "
   ]
  },
  {
   "cell_type": "code",
   "execution_count": null,
   "metadata": {
    "vscode": {
     "languageId": "sql"
    }
   },
   "outputs": [],
   "source": [
    "SELECT * \n",
    "FROM EmployeeDetail\n",
    "WHERE REGEXP_LIKE(FirstName, '^[a-p]');"
   ]
  },
  {
   "cell_type": "markdown",
   "metadata": {},
   "source": [
    "11. Get all employee detail from EmployeeDetail table whose \"FirstName\" not start with any single character between 'a-p' "
   ]
  },
  {
   "cell_type": "code",
   "execution_count": null,
   "metadata": {
    "vscode": {
     "languageId": "sql"
    }
   },
   "outputs": [],
   "source": [
    "SELECT * \n",
    "FROM EmployeeDetail\n",
    "WHERE NOT REGEXP_LIKE(FirstName, '^[a-p]');"
   ]
  },
  {
   "cell_type": "markdown",
   "metadata": {},
   "source": [
    "12. Get all employee detail from EmployeeDetail table whose \"Gender\" end with 'le' and contain 4 letters."
   ]
  },
  {
   "cell_type": "code",
   "execution_count": null,
   "metadata": {
    "vscode": {
     "languageId": "sql"
    }
   },
   "outputs": [],
   "source": [
    "SELECT * \n",
    "FROM EmployeeDetail\n",
    "WHERE REGEXP_LIKE(Gender, '^..le$');"
   ]
  },
  {
   "cell_type": "markdown",
   "metadata": {},
   "source": [
    "13. Get all employee detail from EmployeeDetail table whose \"FirstName\" start with 'A' and contain 5 letters."
   ]
  },
  {
   "cell_type": "code",
   "execution_count": null,
   "metadata": {
    "vscode": {
     "languageId": "sql"
    }
   },
   "outputs": [],
   "source": [
    "SELECT * \n",
    "FROM EmployeeDetail\n",
    "WHERE REGEXP_LIKE(FirstName, '^A....$');"
   ]
  },
  {
   "cell_type": "markdown",
   "metadata": {},
   "source": [
    "14. Get all employee detail from EmployeeDetail table whose \"FirstName\" \n",
    "containing '.'. ex:-\"Vik.as\". \n"
   ]
  },
  {
   "cell_type": "code",
   "execution_count": null,
   "metadata": {
    "vscode": {
     "languageId": "sql"
    }
   },
   "outputs": [],
   "source": [
    "SELECT *\n",
    "FROM EmployeeDetail\n",
    "WHERE REGEXP_LIKE(FirstName, '\\\\.');"
   ]
  },
  {
   "cell_type": "markdown",
   "metadata": {},
   "source": [
    "15. Get all unique \"Department\" from EmployeeDetail table. "
   ]
  },
  {
   "cell_type": "code",
   "execution_count": null,
   "metadata": {
    "vscode": {
     "languageId": "sql"
    }
   },
   "outputs": [],
   "source": [
    "SELECT DISTINCT(Department) \n",
    "FROM EmployeeDetail;"
   ]
  },
  {
   "cell_type": "markdown",
   "metadata": {},
   "source": [
    "16. Get the highest \"Salary\" from EmployeeDetail table."
   ]
  },
  {
   "cell_type": "code",
   "execution_count": null,
   "metadata": {
    "vscode": {
     "languageId": "sql"
    }
   },
   "outputs": [],
   "source": [
    "SELECT MAX(Salary) \n",
    "FROM EmployeeDetail;"
   ]
  },
  {
   "cell_type": "markdown",
   "metadata": {},
   "source": [
    "17. Get the lowest \"Salary\" from EmployeeDetail table. "
   ]
  },
  {
   "cell_type": "code",
   "execution_count": null,
   "metadata": {
    "vscode": {
     "languageId": "sql"
    }
   },
   "outputs": [],
   "source": [
    "SELECT MIN(Salary) \n",
    "FROM EmployeeDetail;"
   ]
  },
  {
   "cell_type": "markdown",
   "metadata": {},
   "source": [
    "18. Show \"JoiningDate\" in \"dd mmm yyyy\" format, ex- \"15 Feb 2013\" "
   ]
  },
  {
   "cell_type": "code",
   "execution_count": null,
   "metadata": {
    "vscode": {
     "languageId": "sql"
    }
   },
   "outputs": [],
   "source": [
    "SELECT DATE_FORMAT(JoiningDate, '%d %b %Y') AS JoiningDateInFormat\n",
    "FROM EmployeeDetail;"
   ]
  },
  {
   "cell_type": "markdown",
   "metadata": {},
   "source": [
    "19. Show \"JoiningDate\" in \"yyyy/mm/dd\" format, ex- \"2013/02/15\" "
   ]
  },
  {
   "cell_type": "code",
   "execution_count": null,
   "metadata": {
    "vscode": {
     "languageId": "sql"
    }
   },
   "outputs": [],
   "source": [
    "SELECT DATE_FORMAT(JoiningDate, '%Y/%m/%d') AS JoiningDateInFormat\n",
    "FROM EmployeeDetail;"
   ]
  },
  {
   "cell_type": "markdown",
   "metadata": {},
   "source": [
    "20. Show only time part of the \"JoiningDate\". "
   ]
  },
  {
   "cell_type": "code",
   "execution_count": null,
   "metadata": {
    "vscode": {
     "languageId": "sql"
    }
   },
   "outputs": [],
   "source": [
    "SELECT DATE_FORMAT(JoiningDate, '%H:%i:%S') AS JoiningTimeInFormat\n",
    "FROM EmployeeDetail;"
   ]
  }
 ],
 "metadata": {
  "kernelspec": {
   "display_name": "Python 3",
   "language": "python",
   "name": "python3"
  },
  "language_info": {
   "codemirror_mode": {
    "name": "ipython",
    "version": 3
   },
   "file_extension": ".py",
   "mimetype": "text/x-python",
   "name": "python",
   "nbconvert_exporter": "python",
   "pygments_lexer": "ipython3",
   "version": "3.12.3"
  }
 },
 "nbformat": 4,
 "nbformat_minor": 2
}
