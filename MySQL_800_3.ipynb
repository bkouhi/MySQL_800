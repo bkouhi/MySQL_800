{
 "cells": [
  {
   "cell_type": "markdown",
   "metadata": {},
   "source": [
    "# MySQL 800 Questions\n",
    "## PART 3"
   ]
  },
  {
   "cell_type": "markdown",
   "metadata": {},
   "source": [
    "### TBL_1 TABLE\n",
    "|ID|\n",
    "|---|\n",
    "|1|\n",
    "|1|"
   ]
  },
  {
   "cell_type": "markdown",
   "metadata": {},
   "source": [
    "### TBL_2 TABLE\n",
    "|ID|\n",
    "|---|\n",
    "|1|\n",
    "|1|\n",
    "|1|"
   ]
  },
  {
   "cell_type": "markdown",
   "metadata": {},
   "source": [
    "### Table_1 TABLE\n",
    "|ID|Name|\n",
    "|---|---|\n",
    "|1|Vikas Ahlawat|\n",
    "|2|Sachin Aggarwal|\n",
    "|3|Manoj Kumar|"
   ]
  },
  {
   "cell_type": "markdown",
   "metadata": {},
   "source": [
    "### Table_2 TABLE\n",
    "|ID|Name|\n",
    "|---|---|\n",
    "|1|Vikas Ahlawat|\n",
    "|4|Sanjay Kumar|\n",
    "|5|Sachin Aggarwal|\n",
    "|3|Sandeep Kumar|"
   ]
  },
  {
   "cell_type": "markdown",
   "metadata": {},
   "source": [
    "### QUESTIONS"
   ]
  },
  {
   "cell_type": "markdown",
   "metadata": {},
   "source": [
    "60. What would be the output of the following query(INNER JOIN)\n",
    "\n",
    "SELECT T1.ID, T2.ID FROM TBL_1 T1 INNER JOIN TBL_2 T2 ON T1.ID = T2.ID"
   ]
  },
  {
   "cell_type": "markdown",
   "metadata": {},
   "source": [
    "|ID|ID|\n",
    "|---|---|\n",
    "|1|1|\n",
    "|1|1|\n",
    "|1|1|\n",
    "|1|1|\n",
    "|1|1|\n",
    "|1|1|"
   ]
  },
  {
   "cell_type": "markdown",
   "metadata": {},
   "source": [
    "61. What would the output of the following query(LEFT OUTER JOIN)\n",
    "\n",
    "SELECT T1.ID, T2.ID FROM TBL_1 T1 LEFT OUTER JOIN TBL_2 T2 ON T1.ID = T2.ID "
   ]
  },
  {
   "cell_type": "markdown",
   "metadata": {},
   "source": [
    "|ID|ID|\n",
    "|---|---|\n",
    "|1|1|\n",
    "|1|1|\n",
    "|1|1|\n",
    "|1|1|\n",
    "|1|1|\n",
    "|1|1|"
   ]
  },
  {
   "cell_type": "markdown",
   "metadata": {},
   "source": [
    "62. What would the output of the following query(RIGHT OUTER JOIN)\n",
    " \n",
    "SELECT T1.ID, T2.ID FROM TBL_1 T1 RIGHT OUTER JOIN TBL_2 T2 ON T1.ID = T2.ID\n"
   ]
  },
  {
   "cell_type": "markdown",
   "metadata": {},
   "source": [
    "|ID|ID|\n",
    "|---|---|\n",
    "|1|1|\n",
    "|1|1|\n",
    "|1|1|\n",
    "|1|1|\n",
    "|1|1|\n",
    "|1|1|"
   ]
  },
  {
   "cell_type": "markdown",
   "metadata": {},
   "source": [
    "63. What would be the output of the following query(CROSS JOIN)\n",
    "\n",
    "SELECT T1.ID, T2.ID FROM TBL_1 T1 CROSS JOIN TBL_2 T2"
   ]
  },
  {
   "cell_type": "markdown",
   "metadata": {},
   "source": [
    "|ID|ID|\n",
    "|---|---|\n",
    "|1|1|\n",
    "|1|1|\n",
    "|1|1|\n",
    "|1|1|\n",
    "|1|1|\n",
    "|1|1|"
   ]
  },
  {
   "cell_type": "markdown",
   "metadata": {},
   "source": [
    "66. What would be the output of the following query.(Related Tables : Table_1,Table_2)\n",
    "\n",
    "SELECT A.ID ,A.Name, B.ID ,B.Name \n",
    "FROM Table_1 AS A INNER JOIN Table_2 AS B \n",
    "ON A.ID = B.ID"
   ]
  },
  {
   "cell_type": "markdown",
   "metadata": {},
   "source": [
    "67. What would be the output of the following query.(Related Tables : Table_1,Table_2)\n",
    "\n",
    "SELECT A.[ID] ,A.[Name],B.[ID] ,B.[Name] FROM [Table_1] A INNER JOIN [Table_2] B \n",
    "ON A.ID = B.ID AND A.[Name] = B.[Name]"
   ]
  },
  {
   "cell_type": "markdown",
   "metadata": {},
   "source": [
    "68. What would be the output of the following query.(Related Tables : Table_1,Table_2) \n",
    "--(INNER JOIN WITH AND)\n",
    "\n",
    "SELECT A.[ID] ,A.[Name],B.[ID] ,B.[Name] FROM [Table_1] A INNER JOIN [Table_2] B \n",
    "ON A.ID = B.ID AND A.[Name] = B.[Name]"
   ]
  },
  {
   "cell_type": "markdown",
   "metadata": {},
   "source": [
    "69. What would be the output of the following query.(Related Tables : Table_1,Table_2) \n",
    "--(INNER JOIN WITH OR)\n",
    "\n",
    "SELECT A.[ID], A.[Name],B.[ID], B.[Name] FROM [Table_1] A INNER JOIN [Table_2] B \n",
    "ON A.ID = B.ID OR A.[Name] = B.[Name] "
   ]
  },
  {
   "cell_type": "markdown",
   "metadata": {},
   "source": [
    "70. What would be the output of the following query.(Related Tables : Table_1,Table_2)--(INNER JOIN WITH NOT EQUAL !=)\n",
    "\n",
    "SELECT A.[ID], A.[Name],B.[ID], B.[Name] FROM [Table_1] A INNER JOIN [Table_2] B \n",
    "ON A.ID != B.ID\n"
   ]
  },
  {
   "cell_type": "markdown",
   "metadata": {},
   "source": [
    "71. What would be the output of the following query.(Related Tables : Table_1,Table_2)--(INNER JOIN WITH NOT)\n",
    "\n",
    "SELECT A.[ID] ,A.[Name],B.[ID] ,B.[Name] FROM [Table_1] A INNER JOIN [Table_2] B ON NOT(A.ID = B.ID)"
   ]
  },
  {
   "cell_type": "markdown",
   "metadata": {},
   "source": [
    "72. What would be the output of the following query.(Related Tables : Table_1,Table_2)--(INNER JOIN WITH IN)\n",
    "\n",
    "SELECT A.[ID], A.[Name],B.[ID], B.[Name] FROM [Table_1] A INNER JOIN [Table_2] B ON A.ID IN(1)"
   ]
  },
  {
   "cell_type": "markdown",
   "metadata": {},
   "source": [
    "73. What would be the output of the following query.(Related Tables : Table_1,Table_2)--(INNER JOIN WITH NOT)\n",
    "\n",
    "SELECT A.[ID] ,A.[Name],B.[ID] ,B.[Name] FROM [Table_1] A INNER JOIN [Table_2] B ON NOT(A.ID = B.ID)"
   ]
  },
  {
   "cell_type": "markdown",
   "metadata": {},
   "source": [
    "74. What would be the output of the following query.(Related Tables : Table_1,Table_2)--(LEFT OUTER JOIN)\n",
    "\n",
    "SELECT A.[ID] ,A.[Name],B.[ID] ,B.[Name] FROM [Table_1] A LEFT OUTER JOIN [Table_2] B ON A.ID = B.ID"
   ]
  },
  {
   "cell_type": "markdown",
   "metadata": {},
   "source": [
    "75. Write down the query to fatch record from Table_1 which not exist in Table_2(based on ID column)"
   ]
  },
  {
   "cell_type": "markdown",
   "metadata": {},
   "source": [
    "76. What would be the output of the following query.(Related Tables : Table_1,Table_2)--(LEFT OUTER JOIN WITH !=)\n",
    "\n",
    "SELECT A.[ID] ,A.[Name],B.[ID] ,B.[Name] FROM [Table_1] A LEFT OUTER JOIN [Table_2] B ON A.ID != B.ID"
   ]
  },
  {
   "cell_type": "markdown",
   "metadata": {},
   "source": [
    "77. Write down the query to fatch record from Table_2 which not exist in Table_1(based on ID column)"
   ]
  },
  {
   "cell_type": "markdown",
   "metadata": {},
   "source": [
    "78. Write down the query to create employee table with Identity column([EmployeeID])"
   ]
  },
  {
   "cell_type": "markdown",
   "metadata": {},
   "source": [
    "79. Write down the query to create employee table with Identity column([EmployeeID])"
   ]
  },
  {
   "cell_type": "markdown",
   "metadata": {},
   "source": [
    "80. Write down the query to create employee table with primary key (EmployeeID)"
   ]
  },
  {
   "cell_type": "markdown",
   "metadata": {},
   "source": [
    "81. How to set Primary key using Alter command"
   ]
  },
  {
   "cell_type": "markdown",
   "metadata": {},
   "source": [
    "82. How to set primary key and foreignkey relationship using query(set EmployeeID column of ProjectDetail table as a foreignkey) "
   ]
  }
 ],
 "metadata": {
  "kernelspec": {
   "display_name": "Python 3",
   "language": "python",
   "name": "python3"
  },
  "language_info": {
   "codemirror_mode": {
    "name": "ipython",
    "version": 3
   },
   "file_extension": ".py",
   "mimetype": "text/x-python",
   "name": "python",
   "nbconvert_exporter": "python",
   "pygments_lexer": "ipython3",
   "version": "3.12.3"
  }
 },
 "nbformat": 4,
 "nbformat_minor": 2
}
