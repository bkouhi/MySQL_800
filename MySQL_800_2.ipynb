{
 "cells": [
  {
   "cell_type": "markdown",
   "metadata": {},
   "source": [
    "# MySQL 800 Questions\n",
    "## PART 2"
   ]
  },
  {
   "cell_type": "markdown",
   "metadata": {},
   "source": [
    "### EmployeeDetail TABLE\n",
    "|EmloyeeID|FirstName|LastName|Salary|JoiningDate|Department|Gender|\n",
    "|---|---|---|---|---|---|---|\n",
    "|1|Vikas|Ahlavat|600000.00|2013-01-15 11:16:28|IT|Male|\n",
    "|2|nikita|Jain|530000.00|2014-01-09 17:31:07|HR|Female|\n",
    "|3|Ashish|Kumar|1000000.00|2014-01-09 10:05:07|IT|Male|\n",
    "|4|Nikhil|Sharma|480000.00|2014-01-09 09:00:07|HR|Male|\n",
    "|5|anish|kadian|500000.00|2014-01-09 09:31:07|Payroll|Male|"
   ]
  },
  {
   "cell_type": "markdown",
   "metadata": {},
   "source": [
    "### QUESTIONS"
   ]
  },
  {
   "cell_type": "markdown",
   "metadata": {},
   "source": [
    "31. Select only one/top 1 record from \"EmployeeDetail\" table. "
   ]
  },
  {
   "cell_type": "code",
   "execution_count": null,
   "metadata": {
    "vscode": {
     "languageId": "plaintext"
    }
   },
   "outputs": [],
   "source": [
    "SELECT *\n",
    "FROM employeedetail\n",
    "LIMIT 1;"
   ]
  },
  {
   "cell_type": "markdown",
   "metadata": {},
   "source": [
    "32. Select all employee detail with First name \"Vikas\",\"Ashish\", and \"Nikhil\"."
   ]
  },
  {
   "cell_type": "code",
   "execution_count": null,
   "metadata": {
    "vscode": {
     "languageId": "plaintext"
    }
   },
   "outputs": [],
   "source": [
    "SELECT *\n",
    "FROM employeedetail\n",
    "WHERE FirstName IN ('Vikas', 'Ashish', 'Nikhil');"
   ]
  },
  {
   "cell_type": "markdown",
   "metadata": {},
   "source": [
    "33. Select all employee detail with First name not in \"Vikas\",\"Ashish\", and \"Nikhil\". "
   ]
  },
  {
   "cell_type": "code",
   "execution_count": null,
   "metadata": {
    "vscode": {
     "languageId": "plaintext"
    }
   },
   "outputs": [],
   "source": [
    "SELECT *\n",
    "FROM employeedetail\n",
    "WHERE FirstName NOT IN ('Vikas', 'Ashish', 'Nikhil');"
   ]
  },
  {
   "cell_type": "markdown",
   "metadata": {},
   "source": [
    "34. Select first name from \"EmployeeDetail\" table after removing white spaces from right side"
   ]
  },
  {
   "cell_type": "code",
   "execution_count": null,
   "metadata": {
    "vscode": {
     "languageId": "plaintext"
    }
   },
   "outputs": [],
   "source": [
    "SELECT RTRIM(FirstName) AS FirstName\n",
    "FROM EmployeeDetail;"
   ]
  },
  {
   "cell_type": "markdown",
   "metadata": {},
   "source": [
    "35. Select first name from \"EmployeeDetail\" table after removing white spaces from left side "
   ]
  },
  {
   "cell_type": "code",
   "execution_count": null,
   "metadata": {
    "vscode": {
     "languageId": "plaintext"
    }
   },
   "outputs": [],
   "source": [
    "SELECT LTRIM(FirstName) AS FirstName\n",
    "FROM EmployeeDetail;"
   ]
  },
  {
   "cell_type": "markdown",
   "metadata": {},
   "source": [
    "36. Display first name and Gender as M/F.(if male then M, if Female then F) "
   ]
  },
  {
   "cell_type": "code",
   "execution_count": null,
   "metadata": {
    "vscode": {
     "languageId": "plaintext"
    }
   },
   "outputs": [],
   "source": [
    "SELECT FirstName,\n",
    "  CASE WHEN Gender = 'Male' THEN 'M'\n",
    "       WHEN Gender = 'Female' THEN 'F'\n",
    "  END AS Gender\n",
    "FROM EmployeeDetail;"
   ]
  },
  {
   "cell_type": "markdown",
   "metadata": {},
   "source": [
    "37. Select first name from \"EmployeeDetail\" table prifixed with \"Hello \" "
   ]
  },
  {
   "cell_type": "code",
   "execution_count": null,
   "metadata": {
    "vscode": {
     "languageId": "plaintext"
    }
   },
   "outputs": [],
   "source": [
    "SELECT CONCAT('Hello ', FirstName)\n",
    "FROM EmployeeDetail;"
   ]
  },
  {
   "cell_type": "markdown",
   "metadata": {},
   "source": [
    "38. Get employee details from \"EmployeeDetail\" table whose Salary greater than 600000 "
   ]
  },
  {
   "cell_type": "code",
   "execution_count": null,
   "metadata": {
    "vscode": {
     "languageId": "plaintext"
    }
   },
   "outputs": [],
   "source": [
    "SELECT * \n",
    "FROM EmployeeDetail\n",
    "WHERE Salary > 600000;"
   ]
  },
  {
   "cell_type": "markdown",
   "metadata": {},
   "source": [
    "39. Get employee details from \"EmployeeDetail\" table whose Salary less than 700000 "
   ]
  },
  {
   "cell_type": "code",
   "execution_count": null,
   "metadata": {
    "vscode": {
     "languageId": "plaintext"
    }
   },
   "outputs": [],
   "source": [
    "SELECT * \n",
    "FROM EmployeeDetail\n",
    "WHERE Salary < 700000;"
   ]
  },
  {
   "cell_type": "markdown",
   "metadata": {},
   "source": [
    "40. Get employee details from \"EmployeeDetail\" table whose Salary between 500000 and 600000"
   ]
  },
  {
   "cell_type": "code",
   "execution_count": null,
   "metadata": {
    "vscode": {
     "languageId": "plaintext"
    }
   },
   "outputs": [],
   "source": [
    "SELECT * \n",
    "FROM EmployeeDetail\n",
    "WHERE Salary BETWEEN 500000 AND 600000;"
   ]
  },
  {
   "cell_type": "markdown",
   "metadata": {},
   "source": [
    "41. Select second highest salary from \"EmployeeDetail\" table."
   ]
  },
  {
   "cell_type": "code",
   "execution_count": null,
   "metadata": {
    "vscode": {
     "languageId": "plaintext"
    }
   },
   "outputs": [],
   "source": [
    "SELECT DISTINCT Salary\n",
    "FROM EmployeeDetail\n",
    "ORDER BY Salary DESC\n",
    "LIMIT 1 OFFSET 1;"
   ]
  },
  {
   "cell_type": "markdown",
   "metadata": {},
   "source": [
    "42. Write the query to get the department and department wise total(sum) salary from \"EmployeeDetail\" table."
   ]
  },
  {
   "cell_type": "code",
   "execution_count": null,
   "metadata": {
    "vscode": {
     "languageId": "plaintext"
    }
   },
   "outputs": [],
   "source": [
    "SELECT Department, SUM(Salary)\n",
    "FROM EmployeeDetail\n",
    "GROUP BY Department;"
   ]
  },
  {
   "cell_type": "markdown",
   "metadata": {},
   "source": [
    "43. Write the query to get the department and department wise total(sum) salary, display it in ascending order according to salary."
   ]
  },
  {
   "cell_type": "code",
   "execution_count": null,
   "metadata": {
    "vscode": {
     "languageId": "plaintext"
    }
   },
   "outputs": [],
   "source": [
    "SELECT Department, SUM(Salary)\n",
    "FROM EmployeeDetail\n",
    "GROUP BY Department\n",
    "ORDER BY SUM(Salary) ASC;"
   ]
  },
  {
   "cell_type": "markdown",
   "metadata": {},
   "source": [
    "44. Write the query to get the department and department wise total(sum) salary, display it in descending order according to salary."
   ]
  },
  {
   "cell_type": "code",
   "execution_count": null,
   "metadata": {
    "vscode": {
     "languageId": "plaintext"
    }
   },
   "outputs": [],
   "source": [
    "SELECT Department, SUM(Salary)\n",
    "FROM EmployeeDetail\n",
    "GROUP BY Department\n",
    "ORDER BY SUM(Salary) DESC;"
   ]
  },
  {
   "cell_type": "markdown",
   "metadata": {},
   "source": [
    "45. Write the query to get the department, total no. of departments, total(sum) salary with respect to department from \"EmployeeDetail\" table."
   ]
  },
  {
   "cell_type": "code",
   "execution_count": null,
   "metadata": {
    "vscode": {
     "languageId": "plaintext"
    }
   },
   "outputs": [],
   "source": [
    "SELECT Department, COUNT(Department), SUM(Salary)\n",
    "FROM EmployeeDetail\n",
    "GROUP BY Department;"
   ]
  },
  {
   "cell_type": "markdown",
   "metadata": {},
   "source": [
    "46. Get department wise average salary from \"EmployeeDetail\" table order by salary ascending"
   ]
  },
  {
   "cell_type": "code",
   "execution_count": null,
   "metadata": {
    "vscode": {
     "languageId": "plaintext"
    }
   },
   "outputs": [],
   "source": [
    "SELECT Department, AVG(Salary)\n",
    "FROM EmployeeDetail\n",
    "GROUP BY Department\n",
    "ORDER BY AVG(Salary) ASC;"
   ]
  },
  {
   "cell_type": "markdown",
   "metadata": {},
   "source": [
    "47. Get department wise maximum salary from \"EmployeeDetail\" table order by salary ascending"
   ]
  },
  {
   "cell_type": "code",
   "execution_count": null,
   "metadata": {
    "vscode": {
     "languageId": "plaintext"
    }
   },
   "outputs": [],
   "source": [
    "SELECT Department, MAX(Salary)\n",
    "FROM EmployeeDetail\n",
    "GROUP BY Department\n",
    "ORDER BY MAX(Salary) ASC;"
   ]
  },
  {
   "cell_type": "markdown",
   "metadata": {},
   "source": [
    "48. Get department wise minimum salary from \"EmployeeDetail\" table order by\n",
    "salary ascending"
   ]
  },
  {
   "cell_type": "code",
   "execution_count": null,
   "metadata": {
    "vscode": {
     "languageId": "plaintext"
    }
   },
   "outputs": [],
   "source": [
    "SELECT Department, MIN(Salary)\n",
    "FROM EmployeeDetail\n",
    "GROUP BY Department\n",
    "ORDER BY MIN(Salary) ASC;"
   ]
  },
  {
   "cell_type": "markdown",
   "metadata": {},
   "source": [
    "49. Get department wise average salary from \"EmployeeDetail\" table order by salary descending"
   ]
  },
  {
   "cell_type": "code",
   "execution_count": null,
   "metadata": {
    "vscode": {
     "languageId": "plaintext"
    }
   },
   "outputs": [],
   "source": [
    "SELECT Department, AVG(Salary)\n",
    "FROM EmployeeDetail\n",
    "GROUP BY Department\n",
    "ORDER BY AVG(Salary) DESC;"
   ]
  },
  {
   "cell_type": "markdown",
   "metadata": {},
   "source": [
    "### ProjectDetail TABLE\n",
    "|ProjectDetailID|EmployeeDetailID|ProjectName|\n",
    "|---|---|---|\n",
    "|1|1|Task Track|\n",
    "|2|1|CLP|\n",
    "|3|1|Survey Management|\n",
    "|4|2|HR Management|\n",
    "|5|3|Task Track|\n",
    "|6|3|GRS|\n",
    "|7|3|DDS|\n",
    "|8|4|HR Management|\n",
    "|9|6|GL Management|"
   ]
  },
  {
   "cell_type": "markdown",
   "metadata": {},
   "source": [
    "50. Write down the query to fetch Project name assign to more than one Employee"
   ]
  },
  {
   "cell_type": "code",
   "execution_count": null,
   "metadata": {
    "vscode": {
     "languageId": "sql"
    }
   },
   "outputs": [],
   "source": [
    "SELECT ProjectName, COUNT(*)\n",
    "FROM ProjectDetail\n",
    "GROUP BY ProjectName\n",
    "HAVING COUNT(EmployeeDetailID) > 1;"
   ]
  },
  {
   "cell_type": "markdown",
   "metadata": {},
   "source": [
    "51. Get employee name, project name order by firstname from \"EmployeeDetail\" and \"ProjectDetail\" for those employee which have assigned project already. "
   ]
  },
  {
   "cell_type": "code",
   "execution_count": null,
   "metadata": {
    "vscode": {
     "languageId": "sql"
    }
   },
   "outputs": [],
   "source": [
    "SELECT e.FirstName, p.ProjectName\n",
    "FROM EmployeeDetail AS e \n",
    "INNER JOIN ProjectDetail AS p ON e.EmployeeID = p.EmployeeDetailID\n",
    "ORDER BY e.FirstName\n",
    ";"
   ]
  },
  {
   "cell_type": "markdown",
   "metadata": {},
   "source": [
    "52. Get employee name, project name order by firstname from \"EmployeeDetail\" and \"ProjectDetail\" for all employee even they have not assigned project. "
   ]
  },
  {
   "cell_type": "code",
   "execution_count": null,
   "metadata": {
    "vscode": {
     "languageId": "sql"
    }
   },
   "outputs": [],
   "source": [
    "SELECT e.FirstName, p.ProjectName\n",
    "FROM EmployeeDetail AS e \n",
    "LEFT JOIN ProjectDetail AS p ON e.EmployeeID = p.EmployeeDetailID\n",
    "ORDER BY e.FirstName\n",
    ";"
   ]
  },
  {
   "cell_type": "markdown",
   "metadata": {
    "vscode": {
     "languageId": "sql"
    }
   },
   "source": [
    "53. Get employee name, project name order by firstname from \n",
    "\"EmployeeDetail\" and \"ProjectDetail\" for all employee if project is not assigned then display \"-No Project Assigned\". "
   ]
  },
  {
   "cell_type": "code",
   "execution_count": null,
   "metadata": {
    "vscode": {
     "languageId": "sql"
    }
   },
   "outputs": [],
   "source": [
    "SELECT e.FirstName, IFNULL(p.ProjectName, '-No Project Assigned')\n",
    "FROM EmployeeDetail AS e \n",
    "LEFT JOIN ProjectDetail AS p ON e.EmployeeID = p.EmployeeDetailID\n",
    "ORDER BY e.FirstName\n",
    ";"
   ]
  },
  {
   "cell_type": "markdown",
   "metadata": {},
   "source": [
    "54. Get all project name even they have not matching any employeeid, in left table, order by firstname from \"EmployeeDetail\" and \"ProjectDetail\"."
   ]
  },
  {
   "cell_type": "code",
   "execution_count": null,
   "metadata": {
    "vscode": {
     "languageId": "sql"
    }
   },
   "outputs": [],
   "source": [
    "SELECT e.FirstName, p.ProjectName\n",
    "FROM EmployeeDetail AS e \n",
    "RIGHT JOIN ProjectDetail AS p ON e.EmployeeID = p.EmployeeDetailID\n",
    "ORDER BY e.FirstName\n",
    ";"
   ]
  },
  {
   "cell_type": "markdown",
   "metadata": {},
   "source": [
    "55. Get complete record (employeename, project name) from both tables \n",
    "([EmployeeDetail],[ProjectDetail]), if no match found in any table then show NULL."
   ]
  },
  {
   "cell_type": "markdown",
   "metadata": {},
   "source": [
    "56. Write a query to find out the employeename who has not assigned any project, and display \"-No Project Assigned\"( tables :- [EmployeeDetail],[ProjectDetail]). "
   ]
  },
  {
   "cell_type": "markdown",
   "metadata": {},
   "source": [
    "58. Write down the query to fetch EmployeeName & Project who has assign more than one project."
   ]
  },
  {
   "cell_type": "markdown",
   "metadata": {},
   "source": [
    "59. Write down the query to fetch ProjectName on which more than one employee are working along with EmployeeName. "
   ]
  },
  {
   "cell_type": "markdown",
   "metadata": {},
   "source": [
    "60. What would be the output of the following query(INNER JOIN)\n",
    "\n",
    "SELECT T1.ID, T2.ID FROM TBL_1 T1 INNER JOIN TBL_2 T2 ON T1.ID = T2.ID"
   ]
  }
 ],
 "metadata": {
  "kernelspec": {
   "display_name": "Python 3",
   "language": "python",
   "name": "python3"
  },
  "language_info": {
   "codemirror_mode": {
    "name": "ipython",
    "version": 3
   },
   "file_extension": ".py",
   "mimetype": "text/x-python",
   "name": "python",
   "nbconvert_exporter": "python",
   "pygments_lexer": "ipython3",
   "version": "3.12.3"
  }
 },
 "nbformat": 4,
 "nbformat_minor": 2
}
